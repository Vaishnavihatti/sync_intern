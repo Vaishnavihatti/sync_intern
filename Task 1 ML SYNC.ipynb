{
 "cells": [
  {
   "cell_type": "markdown",
   "id": "50e031c8",
   "metadata": {},
   "source": [
    "# Task 1"
   ]
  },
  {
   "cell_type": "markdown",
   "id": "12147915",
   "metadata": {},
   "source": [
    "Create a chat bot"
   ]
  },
  {
   "cell_type": "code",
   "execution_count": 1,
   "id": "808227d6",
   "metadata": {},
   "outputs": [
    {
     "data": {
      "text/plain": [
       "'C:\\\\Users\\\\This PC'"
      ]
     },
     "execution_count": 1,
     "metadata": {},
     "output_type": "execute_result"
    }
   ],
   "source": [
    "import os\n",
    "os.getcwd()"
   ]
  },
  {
   "cell_type": "code",
   "execution_count": 2,
   "id": "b7bd27f7",
   "metadata": {},
   "outputs": [],
   "source": [
    "# Importing the libraries \n",
    "import pandas as pd\n",
    "import numpy as np\n",
    "from sklearn import metrics\n",
    "import matplotlib.pyplot as plt\n",
    "import seaborn as sns\n",
    "%matplotlib inline"
   ]
  },
  {
   "cell_type": "code",
   "execution_count": 3,
   "id": "c72da488",
   "metadata": {},
   "outputs": [],
   "source": [
    "import nltk\n",
    "from nltk.chat.util import Chat, reflections"
   ]
  },
  {
   "cell_type": "code",
   "execution_count": 4,
   "id": "399800cd",
   "metadata": {},
   "outputs": [],
   "source": [
    "pairs = [\n",
    "    [\n",
    "        r\"my name is (.*)| I am (.*)\",\n",
    "        [\"RBOT:\\tHello %1\",]\n",
    "    ],\n",
    "    [\n",
    "        r\"what is your name?|name\",\n",
    "        [\"RBOT:\\tMy name is RBOT and I am Created by Vaishnavi\\U0001f648\\n\\tWhat's your Name?\"]\n",
    "    ],\n",
    "    [\n",
    "        r\"how are you?|how you doing?|what's up?\",\n",
    "        [\"RBOT:\\tI'm doing good\\nRBOT: How about You ?\",\"RBOT:\\tI'm doing great\\n\\tHow about You ?\"]\n",
    "    ],\n",
    "    [\n",
    "        r\"Thanks|Thank you|thank u\",\n",
    "        [\"RBOT:\\tHehe\",\"RBOT:\\twelcome\", \"RBOT:\\talright\",\"RBOT:\\t\\U0001f607\"]\n",
    "    ],\n",
    "    [\n",
    "        r\"sorry\",\n",
    "        [\"RBOT:\\tIts alright\",\"RBOT:\\tIts OK, never mind\\U0001f917\"]\n",
    "    ],\n",
    "    [\n",
    "        r\"Do (.*) love me ?\",\n",
    "        [\"RBOT:\\tYes, I love you but as a friend \\U0001f643\"]\n",
    "    ],\n",
    "    [\n",
    "        r\"i am doing good|fine|good|great\",\n",
    "        [\"RBOT:\\tNice to hear that\",\"RBOT:\\tAlright :)\"]\n",
    "    ],\n",
    "    [\n",
    "        r\"hi|hey|hello\",\n",
    "        [\"RBOT:\\tHello\", \"RBOT:\\tHey there\",\"RBOT:\\thii\",\"RBOT:\\tHieeee\"]\n",
    "    ],\n",
    "    [\n",
    "        r\"what is (.*) age?|age\",\n",
    "        [\"RBOT:\\tI'm a computer program dude\\n\\tSeriously you are asking me this?\\U0001f644\"]\n",
    "    ],\n",
    "    [\n",
    "        r\"what do (.*) want ?\",\n",
    "        [\"RBOT:\\tMake me an offer I can't refuse\\U0001f61C\",]\n",
    "    ],\n",
    "    [\n",
    "        r\"who created (.*) ?\",\n",
    "        [\"RBOT:\\tMr. Vaishnavi has created me\\U0001f60E\"]\n",
    "    ],\n",
    "    [\n",
    "        r\"what is (.*) (location|city) ?\",\n",
    "        ['RBOT:\\tNagpur, Maharashtra','RBOT:\\tNagpur, Maharashtra','RBOT:\\tNagpur, Maharashtra']\n",
    "    ],\n",
    "    [\n",
    "        r\"how is weather in (.*)?\",\n",
    "        [\"RBOT:\\tWeather in %1 is awesome like always\\U0001f929\",\"RBOT:\\tit's too cold here\\U0001f976\"]\n",
    "    ],\n",
    "    [\n",
    "        r\"i work in (.*)?\",\n",
    "        [\"RBOT:\\t%1?,I have not heard about it\",]\n",
    "    ],\n",
    "    [\n",
    "        r\"is there raining in (.*)| raining?\",\n",
    "        [\"RBOT:\\tNo rain since last week here in %2\",\"RBOT:\\tDamn its raining too much here in %2\"]\n",
    "    ],\n",
    "    [\n",
    "        r\"how is (.*) health\",\n",
    "        [\"RBOT:\\tI'm a computer program, so I'm always healthy \",]\n",
    "    ],\n",
    "     [\n",
    "        r\"what is (.*) favourite (sports|game)| favourite (sports|game)|(sports|game) ?\",\n",
    "        [\"RBOT:\\tI'm a very big fan of Cricket\", 'RBOT:\\tI love Cricket very much']\n",
    "    ],\n",
    "    [\n",
    "        r\"who is (.*) favourite (sportsperson|player) ?| favourite (sportsperson|player|sportperson)|(sportsperson|player|sportperson)\",\n",
    "        [\"RBOT:\\tVirat Kohli\",\"RBOT:\\tAB De Villiers\",\"RBOT:\\tMS Dhoni\"]\n",
    "    ],\n",
    "    [\n",
    "        r\"who is (.*) favourite (moviestar|actor)?| favourite (moviestar|actor)|(moviestar|actor)\",\n",
    "        [\"RBOT:\\tSharukh Khan\"]\n",
    "    ],\n",
    "    [\n",
    "        r\"quit|bye|see you|c u\",\n",
    "        [\"RBOT:\\tBye take care. See you soon :) \",\"RBOT:\\tIt was nice talking to you. See you soon :)\"]\n",
    "    ],\n",
    "]"
   ]
  },
  {
   "cell_type": "code",
   "execution_count": 5,
   "id": "d02cffca",
   "metadata": {},
   "outputs": [
    {
     "name": "stdout",
     "output_type": "stream",
     "text": [
      "Hi, I'm Chatbot and I chat alot ;)\n",
      "Please type lowercase English language to start a conversation. Type quit to leave \n",
      ">hi\n",
      "RBOT:\tHey there\n",
      ">what is your name\n",
      "RBOT:\tMy name is RBOT and I am Created by Vaishnavi🙈\n",
      "\tWhat's your Name?\n",
      ">how are you\n",
      "RBOT:\tI'm doing good\n",
      "RBOT: How about You ?\n",
      ">what is your age\n",
      "RBOT:\tI'm a computer program dude\n",
      "\tSeriously you are asking me this?🙄\n",
      ">sorry\n",
      "RBOT:\tIts OK, never mind🤗\n",
      ">what is your city\n",
      "RBOT:\tNagpur, Maharashtra\n",
      ">quit\n",
      "RBOT:\tIt was nice talking to you. See you soon :)\n",
      "\n",
      "\n"
     ]
    }
   ],
   "source": [
    "def chatty():\n",
    "    print(\"Hi, I'm Chatbot and I chat alot ;)\\nPlease type lowercase English language to start a conversation. Type quit to leave \") #default message at the start\n",
    "    chat = Chat(pairs, reflections)\n",
    "    chat.converse()\n",
    "    print(\"\\n\")\n",
    "if __name__ == \"__main__\":\n",
    "    chatty()"
   ]
  },
  {
   "cell_type": "code",
   "execution_count": null,
   "id": "50b763d4",
   "metadata": {},
   "outputs": [],
   "source": []
  }
 ],
 "metadata": {
  "kernelspec": {
   "display_name": "Python 3 (ipykernel)",
   "language": "python",
   "name": "python3"
  },
  "language_info": {
   "codemirror_mode": {
    "name": "ipython",
    "version": 3
   },
   "file_extension": ".py",
   "mimetype": "text/x-python",
   "name": "python",
   "nbconvert_exporter": "python",
   "pygments_lexer": "ipython3",
   "version": "3.9.13"
  }
 },
 "nbformat": 4,
 "nbformat_minor": 5
}
